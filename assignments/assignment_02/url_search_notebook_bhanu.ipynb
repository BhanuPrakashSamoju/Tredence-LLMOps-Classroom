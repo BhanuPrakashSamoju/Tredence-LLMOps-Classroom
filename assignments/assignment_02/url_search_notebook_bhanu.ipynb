{
 "cells": [
  {
   "cell_type": "markdown",
   "metadata": {},
   "source": [
    "# RAG Implementation for Web URLs\n",
    "\n",
    "### Input Data:\n",
    "   \n",
    "   **query** -> string : <br>\n",
    "   > Give a short summary of the best practices of MLOps life cycle & whether to build or buy in 2 sentences. <br>\n",
    "   \n",
    "   **web_links** -> list : <br>\n",
    "   > [\"https://www.geeksforgeeks.org/complete-roadmap-to-learn-system-design/?ref=ghm\", \"https://www.geeksforgeeks.org/cap-theorem-in-system-design/\", \"https://dzone.com/articles/mlops-architectural-models-advanced-guide#:~:text=The%20two%20main%20strategies%20to%20consider%20when%20designing,Choosing%20between%20a%20cloud-based%2C%20on-premises%2C%20or%20hybrid%20model\",  \"https://towardsdatascience.com/mlops-the-ultimate-guide-9d902c752fd1\"]<br>\n",
    "\n",
    "\n",
    "### Resources:\n",
    " - **prompt_flow:** [url-search-bhanu](https://ml.azure.com/prompts/flow/534976de-2ba8-4286-90cc-24b264a06f69/2c1dded5-61ca-45cb-b868-99ff7b3a6945/details?wsid=/subscriptions/a118f0cc-4095-4943-b42b-21b474db8465/resourcegroups/mlops-RnD-RG/providers/Microsoft.MachineLearningServices/workspaces/llmops-classroomtraining&tid=927e65b8-7ad7-48db-a3c6-c42a67c100d6)\n",
    " - **endpoint:** [url-bhanu](https://ml.azure.com/endpoints/realtime/url-bhanu/detail?wsid=/subscriptions/a118f0cc-4095-4943-b42b-21b474db8465/resourcegroups/mlops-RnD-RG/providers/Microsoft.MachineLearningServices/workspaces/llmops-classroomtraining&tid=927e65b8-7ad7-48db-a3c6-c42a67c100d6)\n",
    " - **deployment_name:** [url-bhanu-2](https://ml.azure.com/model/url-bhanu:2/model_analysis?wsid=/subscriptions/a118f0cc-4095-4943-b42b-21b474db8465/resourcegroups/mlops-RnD-RG/providers/Microsoft.MachineLearningServices/workspaces/llmops-classroomtraining&tid=927e65b8-7ad7-48db-a3c6-c42a67c100d6)\n",
    " - **inference_url:** https://url-bhanu.westus.inference.ml.azure.com/score\n",
    " - **monitoring_link:** [url-monitoring-bhanu](https://ml.azure.com/monitoring/url-monitoring-bhanu?wsid=/subscriptions/a118f0cc-4095-4943-b42b-21b474db8465/resourcegroups/mlops-RnD-RG/providers/Microsoft.MachineLearningServices/workspaces/llmops-classroomtraining&tid=927e65b8-7ad7-48db-a3c6-c42a67c100d6)\n",
    "    "
   ]
  },
  {
   "cell_type": "code",
   "execution_count": 1,
   "metadata": {},
   "outputs": [
    {
     "name": "stdout",
     "output_type": "stream",
     "text": [
      "b'{\"result\":\"MLOps best practices include seamless progression from ideas to reliable model deployment, efficient collaboration, data management, and model tracking. While building your own MLOps platform can offer flexibility, many teams opt to buy due to the complexity, though proprietary tools can sometimes fail to deliver on their promises.\"}\\n'\n"
     ]
    }
   ],
   "source": [
    "import urllib.request\n",
    "import json\n",
    "import os\n",
    "import ssl\n",
    "\n",
    "def allowSelfSignedHttps(allowed):\n",
    "    # bypass the server certificate verification on client side\n",
    "    if allowed and not os.environ.get('PYTHONHTTPSVERIFY', '') and getattr(ssl, '_create_unverified_context', None):\n",
    "        ssl._create_default_https_context = ssl._create_unverified_context\n",
    "\n",
    "allowSelfSignedHttps(True) # this line is needed if you use self-signed certificate in your scoring service.\n",
    "\n",
    "# Request data goes here\n",
    "# The example below assumes JSON formatting which may be updated\n",
    "# depending on the format your endpoint expects.\n",
    "# More information can be found here:\n",
    "# https://docs.microsoft.com/azure/machine-learning/how-to-deploy-advanced-entry-script\n",
    "data = {\n",
    "    \"query\": \"Give a short summary of the best practices of MLOps life cycle & whether to build or buy in 2 sentences.\",\n",
    "    \"web_links\": [\"https://www.geeksforgeeks.org/complete-roadmap-to-learn-system-design/?ref=ghm\", \"https://www.geeksforgeeks.org/cap-theorem-in-system-design/\", \"https://dzone.com/articles/mlops-architectural-models-advanced-guide#:~:text=The%20two%20main%20strategies%20to%20consider%20when%20designing,Choosing%20between%20a%20cloud-based%2C%20on-premises%2C%20or%20hybrid%20model\",  \"https://towardsdatascience.com/mlops-the-ultimate-guide-9d902c752fd1\"]\n",
    "}\n",
    "\n",
    "body = str.encode(json.dumps(data))\n",
    "\n",
    "url = 'https://url-bhanu.westus.inference.ml.azure.com/score'\n",
    "# Replace this with the primary/secondary key, AMLToken, or Microsoft Entra ID token for the endpoint\n",
    "api_key = 'GWc6ipOVXOIg1Ib7J34wgbT2GvtyYA58'\n",
    "if not api_key:\n",
    "    raise Exception(\"A key should be provided to invoke the endpoint\")\n",
    "\n",
    "\n",
    "headers = {'Content-Type':'application/json', 'Authorization':('Bearer '+ api_key)}\n",
    "\n",
    "req = urllib.request.Request(url, body, headers)\n",
    "\n",
    "try:\n",
    "    response = urllib.request.urlopen(req)\n",
    "\n",
    "    result = response.read()\n",
    "    print(result)\n",
    "except urllib.error.HTTPError as error:\n",
    "    print(\"The request failed with status code: \" + str(error.code))\n",
    "\n",
    "    # Print the headers - they include the requert ID and the timestamp, which are useful for debugging the failure\n",
    "    print(error.info())\n",
    "    print(error.read().decode(\"utf8\", 'ignore'))"
   ]
  },
  {
   "cell_type": "code",
   "execution_count": null,
   "metadata": {},
   "outputs": [],
   "source": []
  }
 ],
 "metadata": {
  "kernelspec": {
   "display_name": "Python 3",
   "language": "python",
   "name": "python3"
  },
  "language_info": {
   "codemirror_mode": {
    "name": "ipython",
    "version": 3
   },
   "file_extension": ".py",
   "mimetype": "text/x-python",
   "name": "python",
   "nbconvert_exporter": "python",
   "pygments_lexer": "ipython3",
   "version": "3.12.2"
  }
 },
 "nbformat": 4,
 "nbformat_minor": 2
}
